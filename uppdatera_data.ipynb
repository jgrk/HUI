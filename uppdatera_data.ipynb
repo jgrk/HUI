{
 "cells": [
  {
   "cell_type": "code",
   "execution_count": 11,
   "metadata": {},
   "outputs": [],
   "source": [
    "import pandas as pd\n",
    "import openpyxl\n",
    "\n"
   ]
  },
  {
   "cell_type": "code",
   "execution_count": 12,
   "metadata": {},
   "outputs": [],
   "source": [
    "rev_data_url = \"/Users/erikduvander/HUI/kod/Handeln i Sverige 1992-2022 (REVIDERAD TIDSSERIE).xlsx\"\n",
    "data_url = \"/Users/erikduvander/HUI/kod/Handeln i Sverige 1992-2022.xlsx\"\n",
    "nl_fil_url = \"/Users/erikduvander/HUI/kod/Regional handel nedladdningsbar fil.xlsx\"\n"
   ]
  },
  {
   "cell_type": "code",
   "execution_count": 13,
   "metadata": {},
   "outputs": [
    {
     "name": "stdout",
     "output_type": "stream",
     "text": [
      "['Oms DV kommun', 'Oms DV län', 'Oms utv % DV kommun', 'Oms utv % DV län', 'Förs index DV kommun', 'Förs index DV län', 'Jämf index DV kommun', 'Oms SV kommun', 'Oms SV län', 'Oms utv % SV kommun', 'Oms utv % SV län', 'Förs index SV kommun', 'Förs index SV län', 'Jämf index SV kommun', 'Oms Tot DH kommun', 'Oms Tot DH län', 'Oms utv % Tot DH kommun', 'Oms utv % Tot DH län', 'Förs index Tot DH kommun', 'Förs index Tot DH län', 'Jämf index Tot DH kommun', 'Syssels DV kommun', 'Syssels DV län', 'Syssels SV kommun', 'Syssels SV län', 'Syssels Tot DH kommun', 'Syssels Tot DH län', 'Oms per ans (tkr) Tot DH kommun', 'Oms per ans (tkr) Tot DH län', 'ESRI_MAPINFO_SHEET']\n"
     ]
    }
   ],
   "source": [
    "rev_blad = pd.ExcelFile(rev_data_url)\n",
    "data_url = pd.ExcelFile(data_url)\n",
    "nl_fil_url = pd.ExcelFile(nl_fil_url)\n",
    "\n",
    "print(rev_blad.sheet_names)"
   ]
  },
  {
   "cell_type": "code",
   "execution_count": 14,
   "metadata": {},
   "outputs": [],
   "source": [
    "rev_data_kommun = pd.read_excel(rev_data_url, sheet_name=['Oms DV kommun', 'Oms utv % DV kommun', 'Förs index DV kommun', 'Jämf index DV kommun', 'Oms SV kommun', 'Oms utv % SV kommun', 'Förs index SV kommun', 'Jämf index SV kommun', 'Oms Tot DH kommun', 'Oms utv % Tot DH kommun', 'Förs index Tot DH kommun', 'Jämf index Tot DH kommun' ])\n",
    "data_kommun = pd.read_excel(data_url, sheet_name=['Oms DV kommun', 'Oms utv % DV kommun', 'Förs index DV kommun', 'Jämf index DV kommun', 'Oms SV kommun', 'Oms utv % SV kommun', 'Förs index SV kommun', 'Jämf index SV kommun', 'Oms Tot DH kommun', 'Oms utv % Tot DH kommun', 'Förs index Tot DH kommun', 'Jämf index Tot DH kommun' ])\n",
    "rev_data_län = pd.read_excel(rev_data_url,sheet_name=[\"Oms DV län\", \"Oms utv % DV län\", \"Förs index DV län\", \"Oms SV län\", \"Oms utv % SV län\", \"Förs index SV län\", \"Oms Tot DH län\", \"Oms utv % Tot DH län\", \"Förs index Tot DH län\" ])\n",
    "data_län = pd.read_excel(data_url,sheet_name=[\"Oms DV län\", \"Oms utv % DV län\", \"Förs index DV län\", \"Oms SV län\", \"Oms utv % SV län\", \"Förs index SV län\", \"Oms Tot DH län\", \"Oms utv % Tot DH län\", \"Förs index Tot DH län\" ])"
   ]
  },
  {
   "cell_type": "code",
   "execution_count": 15,
   "metadata": {},
   "outputs": [],
   "source": [
    "start_index = 6\n",
    "end_index = 36\n",
    "all_data = {}\n",
    "\n",
    "## REV\n",
    "\n",
    "for keys in rev_data_län.keys():\n",
    "    värden = []\n",
    "    for column_name, column_series in rev_data_län[keys].iloc[:,2:].items():\n",
    "        value = column_series.values\n",
    "        dummy_list=[x for x in value]\n",
    "        dummy_list.pop()\n",
    "        dummy_list.reverse()\n",
    "        for x in dummy_list:\n",
    "            värden.append(x)\n",
    "    värden.reverse()\n",
    "    all_data[keys+\" rev\"] = värden\n",
    "\n",
    "for keys in data_län.keys():\n",
    "    värden = []\n",
    "    for column_name, column_series in rev_data_län[keys].iloc[:,2:].items():\n",
    "        value = column_series.values\n",
    "        dummy_list=[x for x in value]\n",
    "        dummy_list.pop()\n",
    "        dummy_list.reverse()\n",
    "        for x in dummy_list:\n",
    "            värden.append(x)\n",
    "    värden.reverse()\n",
    "    all_data[keys] = värden"
   ]
  },
  {
   "cell_type": "code",
   "execution_count": 16,
   "metadata": {},
   "outputs": [],
   "source": [
    "#Kommun\n",
    "\n",
    "for keys in rev_data_kommun.keys():\n",
    "    värden = []\n",
    "    for column_name, column_series in rev_data_kommun[keys].iloc[:,6:37].items():\n",
    "        #print(f\"Column: {column_name}\")\n",
    "        values = column_series.values  # Get the values from the Series\n",
    "        #print(f\"Values: {values}\", len(values))\n",
    "        dummy_list=[]\n",
    "        for ele in values:\n",
    "            dummy_list.append(ele)\n",
    "        dummy_list.pop()\n",
    "        dummy_list.reverse()\n",
    "        for x in dummy_list:\n",
    "            värden.append(x)        \n",
    "    värden.reverse()\n",
    "    all_data[keys +\" rev\"] = värden\n",
    "\n",
    "### EJ REV\n",
    "\n",
    "for keys in data_kommun.keys():\n",
    "    värden = []\n",
    "    for column_name, column_series in data_kommun[keys].iloc[:,6:37].items():\n",
    "        values = column_series.values  # Get the values from the Series\n",
    "        dummy_list=[]\n",
    "        for ele in values:\n",
    "            dummy_list.append(ele)\n",
    "        dummy_list.pop()\n",
    "        dummy_list.reverse() #sista siffran först\n",
    "        for x in dummy_list:\n",
    "            värden.append(x)\n",
    "    värden.reverse()\n",
    "    all_data[keys] = värden   "
   ]
  },
  {
   "cell_type": "code",
   "execution_count": 17,
   "metadata": {},
   "outputs": [],
   "source": [
    "färdig_path = \"fardig.xlsx\"\n",
    "df = pd.DataFrame.from_dict(all_data, orient=\"index\").transpose()\n",
    "df.to_excel(färdig_path, index=False)\n",
    "\n"
   ]
  },
  {
   "cell_type": "code",
   "execution_count": null,
   "metadata": {},
   "outputs": [],
   "source": []
  }
 ],
 "metadata": {
  "kernelspec": {
   "display_name": "Python 3",
   "language": "python",
   "name": "python3"
  },
  "language_info": {
   "codemirror_mode": {
    "name": "ipython",
    "version": 3
   },
   "file_extension": ".py",
   "mimetype": "text/x-python",
   "name": "python",
   "nbconvert_exporter": "python",
   "pygments_lexer": "ipython3",
   "version": "3.11.5"
  },
  "orig_nbformat": 4
 },
 "nbformat": 4,
 "nbformat_minor": 2
}
